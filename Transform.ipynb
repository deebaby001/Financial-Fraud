{
 "cells": [
  {
   "cell_type": "code",
   "execution_count": 1,
   "metadata": {},
   "outputs": [
    {
     "data": {
      "text/plain": [
       "' The primary goal of this process is to:\\n\\n* drop columns that are obsolete \\n* drop select columns that will negatively impact the data '"
      ]
     },
     "execution_count": 1,
     "metadata": {},
     "output_type": "execute_result"
    }
   ],
   "source": [
    "# Data Transformation \n",
    "#Next, I will Transform the dataset by dropping identified columns and / or values. \n",
    "\"\"\" The primary goal of this process is to:\n",
    "\n",
    "* drop columns that are obsolete \n",
    "* drop select columns that will negatively impact the data \"\"\"\n",
    "\n",
    "\n"
   ]
  },
  {
   "cell_type": "code",
   "execution_count": 2,
   "metadata": {},
   "outputs": [],
   "source": [
    "import pandas as pd\n",
    "import numpy as np"
   ]
  },
  {
   "cell_type": "code",
   "execution_count": 3,
   "metadata": {},
   "outputs": [],
   "source": [
    "#Read the Dataset (df) from the .csv file\n",
    "df = pd.read_csv('https://s3.amazonaws.com/dstkh.datasets/PS_20174392719_1491204439457_log.csv')\n"
   ]
  },
  {
   "cell_type": "code",
   "execution_count": 4,
   "metadata": {},
   "outputs": [],
   "source": [
    "#Create a smaller subset of the data, n=1 million rows and name it, \"sample_df\"\n",
    "sample_df = df.sample(n=1000000)\n"
   ]
  },
  {
   "cell_type": "code",
   "execution_count": 5,
   "metadata": {},
   "outputs": [
    {
     "data": {
      "text/html": [
       "<div>\n",
       "<style scoped>\n",
       "    .dataframe tbody tr th:only-of-type {\n",
       "        vertical-align: middle;\n",
       "    }\n",
       "\n",
       "    .dataframe tbody tr th {\n",
       "        vertical-align: top;\n",
       "    }\n",
       "\n",
       "    .dataframe thead th {\n",
       "        text-align: right;\n",
       "    }\n",
       "</style>\n",
       "<table border=\"1\" class=\"dataframe\">\n",
       "  <thead>\n",
       "    <tr style=\"text-align: right;\">\n",
       "      <th></th>\n",
       "      <th>step</th>\n",
       "      <th>type</th>\n",
       "      <th>amount</th>\n",
       "      <th>nameOrig</th>\n",
       "      <th>oldbalanceOrg</th>\n",
       "      <th>newbalanceOrig</th>\n",
       "      <th>nameDest</th>\n",
       "      <th>oldbalanceDest</th>\n",
       "      <th>newbalanceDest</th>\n",
       "      <th>isFraud</th>\n",
       "      <th>isFlaggedFraud</th>\n",
       "    </tr>\n",
       "  </thead>\n",
       "  <tbody>\n",
       "    <tr>\n",
       "      <th>593340</th>\n",
       "      <td>33</td>\n",
       "      <td>PAYMENT</td>\n",
       "      <td>5680.26</td>\n",
       "      <td>C819887001</td>\n",
       "      <td>68879.09</td>\n",
       "      <td>63198.83</td>\n",
       "      <td>M190782679</td>\n",
       "      <td>0.0</td>\n",
       "      <td>0.0</td>\n",
       "      <td>0</td>\n",
       "      <td>0</td>\n",
       "    </tr>\n",
       "    <tr>\n",
       "      <th>3551614</th>\n",
       "      <td>260</td>\n",
       "      <td>PAYMENT</td>\n",
       "      <td>6905.36</td>\n",
       "      <td>C1256774296</td>\n",
       "      <td>0.00</td>\n",
       "      <td>0.00</td>\n",
       "      <td>M741048650</td>\n",
       "      <td>0.0</td>\n",
       "      <td>0.0</td>\n",
       "      <td>0</td>\n",
       "      <td>0</td>\n",
       "    </tr>\n",
       "    <tr>\n",
       "      <th>2551670</th>\n",
       "      <td>206</td>\n",
       "      <td>PAYMENT</td>\n",
       "      <td>11966.33</td>\n",
       "      <td>C1796063708</td>\n",
       "      <td>11052.00</td>\n",
       "      <td>0.00</td>\n",
       "      <td>M593668944</td>\n",
       "      <td>0.0</td>\n",
       "      <td>0.0</td>\n",
       "      <td>0</td>\n",
       "      <td>0</td>\n",
       "    </tr>\n",
       "    <tr>\n",
       "      <th>2284703</th>\n",
       "      <td>187</td>\n",
       "      <td>PAYMENT</td>\n",
       "      <td>22219.91</td>\n",
       "      <td>C406885644</td>\n",
       "      <td>461222.05</td>\n",
       "      <td>439002.14</td>\n",
       "      <td>M1344589778</td>\n",
       "      <td>0.0</td>\n",
       "      <td>0.0</td>\n",
       "      <td>0</td>\n",
       "      <td>0</td>\n",
       "    </tr>\n",
       "    <tr>\n",
       "      <th>2875736</th>\n",
       "      <td>227</td>\n",
       "      <td>TRANSFER</td>\n",
       "      <td>76387.70</td>\n",
       "      <td>C1545832159</td>\n",
       "      <td>30151.00</td>\n",
       "      <td>0.00</td>\n",
       "      <td>C918645269</td>\n",
       "      <td>0.0</td>\n",
       "      <td>76387.7</td>\n",
       "      <td>0</td>\n",
       "      <td>0</td>\n",
       "    </tr>\n",
       "  </tbody>\n",
       "</table>\n",
       "</div>"
      ],
      "text/plain": [
       "         step      type    amount     nameOrig  oldbalanceOrg  newbalanceOrig  \\\n",
       "593340     33   PAYMENT   5680.26   C819887001       68879.09        63198.83   \n",
       "3551614   260   PAYMENT   6905.36  C1256774296           0.00            0.00   \n",
       "2551670   206   PAYMENT  11966.33  C1796063708       11052.00            0.00   \n",
       "2284703   187   PAYMENT  22219.91   C406885644      461222.05       439002.14   \n",
       "2875736   227  TRANSFER  76387.70  C1545832159       30151.00            0.00   \n",
       "\n",
       "            nameDest  oldbalanceDest  newbalanceDest  isFraud  isFlaggedFraud  \n",
       "593340    M190782679             0.0             0.0        0               0  \n",
       "3551614   M741048650             0.0             0.0        0               0  \n",
       "2551670   M593668944             0.0             0.0        0               0  \n",
       "2284703  M1344589778             0.0             0.0        0               0  \n",
       "2875736   C918645269             0.0         76387.7        0               0  "
      ]
     },
     "execution_count": 5,
     "metadata": {},
     "output_type": "execute_result"
    }
   ],
   "source": [
    "#Print first 5 rows of 'sample_df' for this review\n",
    "\n",
    "sample_df.head()\n"
   ]
  },
  {
   "cell_type": "code",
   "execution_count": 6,
   "metadata": {},
   "outputs": [],
   "source": [
    "#Make a back up copy of the df\n",
    "\n",
    "copy_sample_df = sample_df.copy()\n"
   ]
  },
  {
   "cell_type": "code",
   "execution_count": 7,
   "metadata": {},
   "outputs": [
    {
     "name": "stdout",
     "output_type": "stream",
     "text": [
      "(1000000, 11)\n"
     ]
    }
   ],
   "source": [
    "# Print out the shape of this dataframe for better clarity\n",
    "\n",
    "print(sample_df.shape)\n"
   ]
  },
  {
   "cell_type": "code",
   "execution_count": 8,
   "metadata": {},
   "outputs": [
    {
     "data": {
      "text/plain": [
       "step              0\n",
       "type              0\n",
       "amount            0\n",
       "nameOrig          0\n",
       "oldbalanceOrg     0\n",
       "newbalanceOrig    0\n",
       "nameDest          0\n",
       "oldbalanceDest    0\n",
       "newbalanceDest    0\n",
       "isFraud           0\n",
       "isFlaggedFraud    0\n",
       "dtype: int64"
      ]
     },
     "execution_count": 8,
     "metadata": {},
     "output_type": "execute_result"
    }
   ],
   "source": [
    "# Display how many null values are in each column of this dataframe\n",
    "sample_df.isna().sum()\n"
   ]
  },
  {
   "cell_type": "code",
   "execution_count": 9,
   "metadata": {},
   "outputs": [],
   "source": [
    "# Drop the columns that are not necessary for the analysis.\n",
    "# Those identified are: step, nameOrig\n",
    "# Column = Step, is significant to a time variable which is not being measured here\n",
    "# Column = nameOrig, indicates the account origin name, this is not being measured her.\n",
    "\n",
    "#The following reqpresents the new df created following transformation of the data\n",
    "#transformed_df = sample_df.drop(['step', 'nameOrig'], axis = 1, inplace=True)\n",
    "\n",
    "transformed_df =sample_df.drop(columns=['step', 'nameOrig'], inplace=True)\n"
   ]
  },
  {
   "cell_type": "code",
   "execution_count": 11,
   "metadata": {},
   "outputs": [],
   "source": [
    "#Make a copy of the sample_df -transformed \n",
    "modified_sample_df = sample_df.copy()\n"
   ]
  },
  {
   "cell_type": "code",
   "execution_count": 12,
   "metadata": {},
   "outputs": [
    {
     "data": {
      "text/plain": [
       "(1000000, 9)"
      ]
     },
     "execution_count": 12,
     "metadata": {},
     "output_type": "execute_result"
    }
   ],
   "source": [
    "# Print out the shape of this old dataframe, sample_df\n",
    "\n",
    "modified_sample_df.shape\n"
   ]
  },
  {
   "cell_type": "code",
   "execution_count": 13,
   "metadata": {},
   "outputs": [
    {
     "name": "stdout",
     "output_type": "stream",
     "text": [
      "<bound method NDFrame.describe of              type     amount  oldbalanceOrg  newbalanceOrig     nameDest  \\\n",
      "593340    PAYMENT    5680.26       68879.09        63198.83   M190782679   \n",
      "3551614   PAYMENT    6905.36           0.00            0.00   M741048650   \n",
      "2551670   PAYMENT   11966.33       11052.00            0.00   M593668944   \n",
      "2284703   PAYMENT   22219.91      461222.05       439002.14  M1344589778   \n",
      "2875736  TRANSFER   76387.70       30151.00            0.00   C918645269   \n",
      "...           ...        ...            ...             ...          ...   \n",
      "2032161  CASH_OUT  152053.30           0.00            0.00  C1863794824   \n",
      "1946013  CASH_OUT  471626.47           0.00            0.00   C711359926   \n",
      "4652294  CASH_OUT  105086.76           0.00            0.00  C2119712101   \n",
      "6068034   PAYMENT    2327.92      313503.42       311175.50  M1047200846   \n",
      "2401113   CASH_IN  510077.97       20973.00       531050.97   C250292188   \n",
      "\n",
      "         oldbalanceDest  newbalanceDest  isFraud  isFlaggedFraud  \n",
      "593340             0.00            0.00        0               0  \n",
      "3551614            0.00            0.00        0               0  \n",
      "2551670            0.00            0.00        0               0  \n",
      "2284703            0.00            0.00        0               0  \n",
      "2875736            0.00        76387.70        0               0  \n",
      "...                 ...             ...      ...             ...  \n",
      "2032161      4527880.05      4679933.34        0               0  \n",
      "1946013      4289807.93      4761434.39        0               0  \n",
      "4652294       692841.84       797928.60        0               0  \n",
      "6068034            0.00            0.00        0               0  \n",
      "2401113        69409.45            0.00        0               0  \n",
      "\n",
      "[1000000 rows x 9 columns]>\n"
     ]
    }
   ],
   "source": [
    "# Print out the first 5 rows of this dataframe for validation\n",
    "print(modified_sample_df.describe)\n",
    "\n"
   ]
  },
  {
   "cell_type": "code",
   "execution_count": null,
   "metadata": {},
   "outputs": [],
   "source": [
    "# Write this newly transformed dataset to the `ProcessedData` folder.\n",
    "modified_sample_df.to_csv('fraud_data_cleaned.csv',index=False )\n",
    "\n"
   ]
  }
 ],
 "metadata": {
  "kernelspec": {
   "display_name": "phase1",
   "language": "python",
   "name": "python3"
  },
  "language_info": {
   "codemirror_mode": {
    "name": "ipython",
    "version": 3
   },
   "file_extension": ".py",
   "mimetype": "text/x-python",
   "name": "python",
   "nbconvert_exporter": "python",
   "pygments_lexer": "ipython3",
   "version": "3.9.18"
  }
 },
 "nbformat": 4,
 "nbformat_minor": 2
}
