{
 "cells": [
  {
   "cell_type": "code",
   "execution_count": 3,
   "metadata": {},
   "outputs": [
    {
     "data": {
      "text/plain": [
       "' The primary goal of this process is to:\\n\\n* drop columns that are obsolete \\n* drop select columns that will negatively impact the data '"
      ]
     },
     "execution_count": 3,
     "metadata": {},
     "output_type": "execute_result"
    }
   ],
   "source": [
    "# Data Transformation \n",
    "#Next, I will Transform the dataset by dropping identified columns and / or values. \n",
    "\"\"\" The primary goal of this process is to:\n",
    "\n",
    "* drop columns that are obsolete \n",
    "* drop select columns that will negatively impact the data \"\"\"\n",
    "\n",
    "\n"
   ]
  },
  {
   "cell_type": "code",
   "execution_count": 4,
   "metadata": {},
   "outputs": [],
   "source": [
    "import pandas as pd\n",
    "import numpy as np"
   ]
  },
  {
   "cell_type": "code",
   "execution_count": 5,
   "metadata": {},
   "outputs": [],
   "source": [
    "#Read the Dataset (df) from the .csv file\n",
    "df = pd.read_csv('https://s3.amazonaws.com/dstkh.datasets/PS_20174392719_1491204439457_log.csv')\n"
   ]
  },
  {
   "cell_type": "code",
   "execution_count": 6,
   "metadata": {},
   "outputs": [],
   "source": [
    "#Create a smaller subset of the data, n=1 million rows and name it, \"sample_df\"\n",
    "sample_df = df.sample(n=1000000)\n"
   ]
  },
  {
   "cell_type": "code",
   "execution_count": 7,
   "metadata": {},
   "outputs": [
    {
     "data": {
      "text/html": [
       "<div>\n",
       "<style scoped>\n",
       "    .dataframe tbody tr th:only-of-type {\n",
       "        vertical-align: middle;\n",
       "    }\n",
       "\n",
       "    .dataframe tbody tr th {\n",
       "        vertical-align: top;\n",
       "    }\n",
       "\n",
       "    .dataframe thead th {\n",
       "        text-align: right;\n",
       "    }\n",
       "</style>\n",
       "<table border=\"1\" class=\"dataframe\">\n",
       "  <thead>\n",
       "    <tr style=\"text-align: right;\">\n",
       "      <th></th>\n",
       "      <th>step</th>\n",
       "      <th>type</th>\n",
       "      <th>amount</th>\n",
       "      <th>nameOrig</th>\n",
       "      <th>oldbalanceOrg</th>\n",
       "      <th>newbalanceOrig</th>\n",
       "      <th>nameDest</th>\n",
       "      <th>oldbalanceDest</th>\n",
       "      <th>newbalanceDest</th>\n",
       "      <th>isFraud</th>\n",
       "      <th>isFlaggedFraud</th>\n",
       "    </tr>\n",
       "  </thead>\n",
       "  <tbody>\n",
       "    <tr>\n",
       "      <th>6207039</th>\n",
       "      <td>587</td>\n",
       "      <td>TRANSFER</td>\n",
       "      <td>3573.11</td>\n",
       "      <td>C2029421814</td>\n",
       "      <td>0.00</td>\n",
       "      <td>0.00</td>\n",
       "      <td>C422466055</td>\n",
       "      <td>223901.18</td>\n",
       "      <td>227474.28</td>\n",
       "      <td>0</td>\n",
       "      <td>0</td>\n",
       "    </tr>\n",
       "    <tr>\n",
       "      <th>4719176</th>\n",
       "      <td>332</td>\n",
       "      <td>PAYMENT</td>\n",
       "      <td>6141.99</td>\n",
       "      <td>C555314103</td>\n",
       "      <td>337394.62</td>\n",
       "      <td>331252.63</td>\n",
       "      <td>M404619443</td>\n",
       "      <td>0.00</td>\n",
       "      <td>0.00</td>\n",
       "      <td>0</td>\n",
       "      <td>0</td>\n",
       "    </tr>\n",
       "    <tr>\n",
       "      <th>5563412</th>\n",
       "      <td>386</td>\n",
       "      <td>CASH_OUT</td>\n",
       "      <td>526504.25</td>\n",
       "      <td>C738213239</td>\n",
       "      <td>0.00</td>\n",
       "      <td>0.00</td>\n",
       "      <td>C790886408</td>\n",
       "      <td>32111553.59</td>\n",
       "      <td>32638057.85</td>\n",
       "      <td>0</td>\n",
       "      <td>0</td>\n",
       "    </tr>\n",
       "    <tr>\n",
       "      <th>1653785</th>\n",
       "      <td>158</td>\n",
       "      <td>CASH_OUT</td>\n",
       "      <td>197988.87</td>\n",
       "      <td>C597191435</td>\n",
       "      <td>41298.00</td>\n",
       "      <td>0.00</td>\n",
       "      <td>C2138706730</td>\n",
       "      <td>3507583.49</td>\n",
       "      <td>3705572.36</td>\n",
       "      <td>0</td>\n",
       "      <td>0</td>\n",
       "    </tr>\n",
       "    <tr>\n",
       "      <th>1802552</th>\n",
       "      <td>162</td>\n",
       "      <td>CASH_OUT</td>\n",
       "      <td>339577.33</td>\n",
       "      <td>C1949774804</td>\n",
       "      <td>0.00</td>\n",
       "      <td>0.00</td>\n",
       "      <td>C1650523697</td>\n",
       "      <td>1760353.29</td>\n",
       "      <td>2099930.62</td>\n",
       "      <td>0</td>\n",
       "      <td>0</td>\n",
       "    </tr>\n",
       "  </tbody>\n",
       "</table>\n",
       "</div>"
      ],
      "text/plain": [
       "         step      type     amount     nameOrig  oldbalanceOrg  \\\n",
       "6207039   587  TRANSFER    3573.11  C2029421814           0.00   \n",
       "4719176   332   PAYMENT    6141.99   C555314103      337394.62   \n",
       "5563412   386  CASH_OUT  526504.25   C738213239           0.00   \n",
       "1653785   158  CASH_OUT  197988.87   C597191435       41298.00   \n",
       "1802552   162  CASH_OUT  339577.33  C1949774804           0.00   \n",
       "\n",
       "         newbalanceOrig     nameDest  oldbalanceDest  newbalanceDest  isFraud  \\\n",
       "6207039            0.00   C422466055       223901.18       227474.28        0   \n",
       "4719176       331252.63   M404619443            0.00            0.00        0   \n",
       "5563412            0.00   C790886408     32111553.59     32638057.85        0   \n",
       "1653785            0.00  C2138706730      3507583.49      3705572.36        0   \n",
       "1802552            0.00  C1650523697      1760353.29      2099930.62        0   \n",
       "\n",
       "         isFlaggedFraud  \n",
       "6207039               0  \n",
       "4719176               0  \n",
       "5563412               0  \n",
       "1653785               0  \n",
       "1802552               0  "
      ]
     },
     "execution_count": 7,
     "metadata": {},
     "output_type": "execute_result"
    }
   ],
   "source": [
    "#Print first 5 rows of 'sample_df' for this review\n",
    "\n",
    "sample_df.head()\n"
   ]
  },
  {
   "cell_type": "code",
   "execution_count": 8,
   "metadata": {},
   "outputs": [],
   "source": [
    "#Make a back up copy of the df\n",
    "\n",
    "copy_sample_df = sample_df.copy()\n"
   ]
  },
  {
   "cell_type": "code",
   "execution_count": 9,
   "metadata": {},
   "outputs": [
    {
     "name": "stdout",
     "output_type": "stream",
     "text": [
      "(1000000, 11)\n"
     ]
    }
   ],
   "source": [
    "# Print out the shape of this dataframe for better clarity\n",
    "\n",
    "print(sample_df.shape)\n"
   ]
  },
  {
   "cell_type": "code",
   "execution_count": 10,
   "metadata": {},
   "outputs": [
    {
     "data": {
      "text/plain": [
       "step              0\n",
       "type              0\n",
       "amount            0\n",
       "nameOrig          0\n",
       "oldbalanceOrg     0\n",
       "newbalanceOrig    0\n",
       "nameDest          0\n",
       "oldbalanceDest    0\n",
       "newbalanceDest    0\n",
       "isFraud           0\n",
       "isFlaggedFraud    0\n",
       "dtype: int64"
      ]
     },
     "execution_count": 10,
     "metadata": {},
     "output_type": "execute_result"
    }
   ],
   "source": [
    "# Display how many null values are in each column of this dataframe\n",
    "sample_df.isna().sum()\n"
   ]
  },
  {
   "cell_type": "code",
   "execution_count": 11,
   "metadata": {},
   "outputs": [],
   "source": [
    "# Drop the columns that are not necessary for the analysis.\n",
    "# Those identified are: step, nameOrig\n",
    "# Column = Step, is significant to a time variable which is not being measured here\n",
    "# Column = nameOrig, indicates the account origin name, this is not being measured her.\n",
    "\n",
    "#The following represents the new df created following transformation of the data\n",
    "\n",
    "transformed_sample_df =sample_df.drop(columns=['step', 'nameOrig'], inplace=True)\n"
   ]
  },
  {
   "cell_type": "code",
   "execution_count": 14,
   "metadata": {},
   "outputs": [
    {
     "data": {
      "text/plain": [
       "(1000000, 9)"
      ]
     },
     "execution_count": 14,
     "metadata": {},
     "output_type": "execute_result"
    }
   ],
   "source": [
    "# Print out the shape of this old dataframe, sample_df\n",
    "\n",
    "sample_df.shape\n"
   ]
  },
  {
   "cell_type": "code",
   "execution_count": 15,
   "metadata": {},
   "outputs": [],
   "source": [
    "#Copy of changed data frame to modified\n",
    "modified_sample_df = sample_df.copy()"
   ]
  },
  {
   "cell_type": "code",
   "execution_count": 16,
   "metadata": {},
   "outputs": [
    {
     "name": "stdout",
     "output_type": "stream",
     "text": [
      "<bound method NDFrame.describe of              type     amount  oldbalanceOrg  newbalanceOrig     nameDest  \\\n",
      "6207039  TRANSFER    3573.11           0.00            0.00   C422466055   \n",
      "4719176   PAYMENT    6141.99      337394.62       331252.63   M404619443   \n",
      "5563412  CASH_OUT  526504.25           0.00            0.00   C790886408   \n",
      "1653785  CASH_OUT  197988.87       41298.00            0.00  C2138706730   \n",
      "1802552  CASH_OUT  339577.33           0.00            0.00  C1650523697   \n",
      "...           ...        ...            ...             ...          ...   \n",
      "2658543  CASH_OUT  172848.76         327.00            0.00  C1397453271   \n",
      "133485    PAYMENT    5194.76        2524.69            0.00   M286284579   \n",
      "290653   CASH_OUT  437580.15         298.00            0.00   C614532593   \n",
      "362461   CASH_OUT   23605.46       22293.00            0.00   C182469463   \n",
      "2392657  CASH_OUT   71799.13           0.00            0.00   C356824962   \n",
      "\n",
      "         oldbalanceDest  newbalanceDest  isFraud  isFlaggedFraud  \n",
      "6207039       223901.18       227474.28        0               0  \n",
      "4719176            0.00            0.00        0               0  \n",
      "5563412     32111553.59     32638057.85        0               0  \n",
      "1653785      3507583.49      3705572.36        0               0  \n",
      "1802552      1760353.29      2099930.62        0               0  \n",
      "...                 ...             ...      ...             ...  \n",
      "2658543            0.00       172848.76        0               0  \n",
      "133485             0.00            0.00        0               0  \n",
      "290653         41895.27       479475.42        0               0  \n",
      "362461         28092.06            0.00        0               0  \n",
      "2392657       178056.67       249855.80        0               0  \n",
      "\n",
      "[1000000 rows x 9 columns]>\n"
     ]
    }
   ],
   "source": [
    "# Print out the first 5 rows of this dataframe for validation\n",
    "print(modified_sample_df.describe)\n"
   ]
  },
  {
   "cell_type": "code",
   "execution_count": 17,
   "metadata": {},
   "outputs": [],
   "source": [
    "# Write this newly transformed dataset to the `Processed Data` folder.\n",
    "#modified_sample_df.to_csv('fraud_data_cleaned.csv',index=False )\n",
    "\n",
    "modified_sample_df.to_csv(r'C:\\Users\\deema\\Financial-Fraud-1\\Processed Data\\cleaned_fraud_data.csv', index=None, header=True)\n"
   ]
  }
 ],
 "metadata": {
  "kernelspec": {
   "display_name": "phase1",
   "language": "python",
   "name": "python3"
  },
  "language_info": {
   "codemirror_mode": {
    "name": "ipython",
    "version": 3
   },
   "file_extension": ".py",
   "mimetype": "text/x-python",
   "name": "python",
   "nbconvert_exporter": "python",
   "pygments_lexer": "ipython3",
   "version": "3.9.18"
  }
 },
 "nbformat": 4,
 "nbformat_minor": 2
}
