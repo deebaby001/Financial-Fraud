{
 "cells": [
  {
   "cell_type": "code",
   "execution_count": 4,
   "metadata": {},
   "outputs": [],
   "source": [
    "#Modeling\n",
    "\n",
    "#Pre-Modeling\n",
    "#Take the existing Sample dataset\n",
    "#Make this dataset concise for modeling purposes\n",
    "# C:\\Users\\deema\\Financial-Fraud-1\\Processed Data\\cleaned_fraud_data.csv\n",
    "#cleaned_fraud_data.to_csv('Model_sample.csv', index=False)\n",
    "\n",
    "\n",
    "import pandas as pd\n",
    "\n",
    "# Read the entire CSV file\n",
    "df = pd.read_csv('C:/Users/deema/Financial-Fraud-1/Processed Data/cleaned_fraud_data.csv')\n",
    "\n",
    "# Select the first 10,000 rows\n",
    "df_model = df[:10000]\n"
   ]
  },
  {
   "cell_type": "code",
   "execution_count": 10,
   "metadata": {},
   "outputs": [
    {
     "data": {
      "text/html": [
       "<div>\n",
       "<style scoped>\n",
       "    .dataframe tbody tr th:only-of-type {\n",
       "        vertical-align: middle;\n",
       "    }\n",
       "\n",
       "    .dataframe tbody tr th {\n",
       "        vertical-align: top;\n",
       "    }\n",
       "\n",
       "    .dataframe thead th {\n",
       "        text-align: right;\n",
       "    }\n",
       "</style>\n",
       "<table border=\"1\" class=\"dataframe\">\n",
       "  <thead>\n",
       "    <tr style=\"text-align: right;\">\n",
       "      <th></th>\n",
       "      <th>type</th>\n",
       "      <th>amount</th>\n",
       "      <th>oldbalanceOrg</th>\n",
       "      <th>newbalanceOrig</th>\n",
       "      <th>nameDest</th>\n",
       "      <th>oldbalanceDest</th>\n",
       "      <th>newbalanceDest</th>\n",
       "      <th>isFraud</th>\n",
       "      <th>isFlaggedFraud</th>\n",
       "    </tr>\n",
       "  </thead>\n",
       "  <tbody>\n",
       "    <tr>\n",
       "      <th>0</th>\n",
       "      <td>TRANSFER</td>\n",
       "      <td>3573.11</td>\n",
       "      <td>0.00</td>\n",
       "      <td>0.00</td>\n",
       "      <td>C422466055</td>\n",
       "      <td>223901.18</td>\n",
       "      <td>227474.28</td>\n",
       "      <td>0</td>\n",
       "      <td>0</td>\n",
       "    </tr>\n",
       "    <tr>\n",
       "      <th>1</th>\n",
       "      <td>PAYMENT</td>\n",
       "      <td>6141.99</td>\n",
       "      <td>337394.62</td>\n",
       "      <td>331252.63</td>\n",
       "      <td>M404619443</td>\n",
       "      <td>0.00</td>\n",
       "      <td>0.00</td>\n",
       "      <td>0</td>\n",
       "      <td>0</td>\n",
       "    </tr>\n",
       "    <tr>\n",
       "      <th>2</th>\n",
       "      <td>CASH_OUT</td>\n",
       "      <td>526504.25</td>\n",
       "      <td>0.00</td>\n",
       "      <td>0.00</td>\n",
       "      <td>C790886408</td>\n",
       "      <td>32111553.59</td>\n",
       "      <td>32638057.85</td>\n",
       "      <td>0</td>\n",
       "      <td>0</td>\n",
       "    </tr>\n",
       "    <tr>\n",
       "      <th>3</th>\n",
       "      <td>CASH_OUT</td>\n",
       "      <td>197988.87</td>\n",
       "      <td>41298.00</td>\n",
       "      <td>0.00</td>\n",
       "      <td>C2138706730</td>\n",
       "      <td>3507583.49</td>\n",
       "      <td>3705572.36</td>\n",
       "      <td>0</td>\n",
       "      <td>0</td>\n",
       "    </tr>\n",
       "    <tr>\n",
       "      <th>4</th>\n",
       "      <td>CASH_OUT</td>\n",
       "      <td>339577.33</td>\n",
       "      <td>0.00</td>\n",
       "      <td>0.00</td>\n",
       "      <td>C1650523697</td>\n",
       "      <td>1760353.29</td>\n",
       "      <td>2099930.62</td>\n",
       "      <td>0</td>\n",
       "      <td>0</td>\n",
       "    </tr>\n",
       "  </tbody>\n",
       "</table>\n",
       "</div>"
      ],
      "text/plain": [
       "       type     amount  oldbalanceOrg  newbalanceOrig     nameDest  \\\n",
       "0  TRANSFER    3573.11           0.00            0.00   C422466055   \n",
       "1   PAYMENT    6141.99      337394.62       331252.63   M404619443   \n",
       "2  CASH_OUT  526504.25           0.00            0.00   C790886408   \n",
       "3  CASH_OUT  197988.87       41298.00            0.00  C2138706730   \n",
       "4  CASH_OUT  339577.33           0.00            0.00  C1650523697   \n",
       "\n",
       "   oldbalanceDest  newbalanceDest  isFraud  isFlaggedFraud  \n",
       "0       223901.18       227474.28        0               0  \n",
       "1            0.00            0.00        0               0  \n",
       "2     32111553.59     32638057.85        0               0  \n",
       "3      3507583.49      3705572.36        0               0  \n",
       "4      1760353.29      2099930.62        0               0  "
      ]
     },
     "execution_count": 10,
     "metadata": {},
     "output_type": "execute_result"
    }
   ],
   "source": [
    "import numpy as np\n",
    "\n",
    "#Observe the header of the new sample df for modeling\n",
    "df_model.head()\n"
   ]
  },
  {
   "cell_type": "code",
   "execution_count": 11,
   "metadata": {},
   "outputs": [
    {
     "name": "stdout",
     "output_type": "stream",
     "text": [
      "(10000, 9)\n"
     ]
    }
   ],
   "source": [
    "#Describe the new sample df for modeling\n",
    "\n",
    "print(df_model.shape)\n"
   ]
  },
  {
   "cell_type": "code",
   "execution_count": null,
   "metadata": {},
   "outputs": [],
   "source": [
    "#Saving the sample dataframe to a csv file named ML_Sample\n",
    "df_model.to_csv(r'C:\\Users\\deema\\Financial-Fraud-1\\Processed Data\\ML_Sample.csv', index=None, header=True)"
   ]
  }
 ],
 "metadata": {
  "kernelspec": {
   "display_name": "phase1",
   "language": "python",
   "name": "python3"
  },
  "language_info": {
   "codemirror_mode": {
    "name": "ipython",
    "version": 3
   },
   "file_extension": ".py",
   "mimetype": "text/x-python",
   "name": "python",
   "nbconvert_exporter": "python",
   "pygments_lexer": "ipython3",
   "version": "3.9.18"
  }
 },
 "nbformat": 4,
 "nbformat_minor": 2
}
