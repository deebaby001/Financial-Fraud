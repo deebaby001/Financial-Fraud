{
 "cells": [
  {
   "cell_type": "markdown",
   "metadata": {},
   "source": [
    "**Modeling**\n",
    "\n",
    "Utilizing the Decision Tree Classifier\n",
    "Then displaying the Hyperparameter evaluations with Grid Search\n",
    "\n",
    "Performing some Pre-Modeling - Take the existing Sample dataset -Make this dataset concise for modeling purposes"
   ]
  },
  {
   "cell_type": "code",
   "execution_count": 1,
   "metadata": {},
   "outputs": [],
   "source": [
    "#Using the cleaned data file to create a smaller sample fine for modeling  \n",
    "\n",
    "import pandas as pd\n",
    "import numpy as np\n",
    "\n",
    "# Read the entire CSV file\n",
    "df = pd.read_csv('C:/Users/deema/Financial-Fraud-1/Processed Data/cleaned_fraud_data.csv')\n",
    "\n",
    "# Select the first 10,000 rows\n",
    "df_model = df[:10000]\n"
   ]
  },
  {
   "cell_type": "code",
   "execution_count": 2,
   "metadata": {},
   "outputs": [
    {
     "data": {
      "text/html": [
       "<div>\n",
       "<style scoped>\n",
       "    .dataframe tbody tr th:only-of-type {\n",
       "        vertical-align: middle;\n",
       "    }\n",
       "\n",
       "    .dataframe tbody tr th {\n",
       "        vertical-align: top;\n",
       "    }\n",
       "\n",
       "    .dataframe thead th {\n",
       "        text-align: right;\n",
       "    }\n",
       "</style>\n",
       "<table border=\"1\" class=\"dataframe\">\n",
       "  <thead>\n",
       "    <tr style=\"text-align: right;\">\n",
       "      <th></th>\n",
       "      <th>type</th>\n",
       "      <th>amount</th>\n",
       "      <th>oldbalanceOrg</th>\n",
       "      <th>newbalanceOrig</th>\n",
       "      <th>nameDest</th>\n",
       "      <th>oldbalanceDest</th>\n",
       "      <th>newbalanceDest</th>\n",
       "      <th>isFraud</th>\n",
       "      <th>isFlaggedFraud</th>\n",
       "    </tr>\n",
       "  </thead>\n",
       "  <tbody>\n",
       "    <tr>\n",
       "      <th>0</th>\n",
       "      <td>TRANSFER</td>\n",
       "      <td>3573.11</td>\n",
       "      <td>0.00</td>\n",
       "      <td>0.00</td>\n",
       "      <td>C422466055</td>\n",
       "      <td>223901.18</td>\n",
       "      <td>227474.28</td>\n",
       "      <td>0</td>\n",
       "      <td>0</td>\n",
       "    </tr>\n",
       "    <tr>\n",
       "      <th>1</th>\n",
       "      <td>PAYMENT</td>\n",
       "      <td>6141.99</td>\n",
       "      <td>337394.62</td>\n",
       "      <td>331252.63</td>\n",
       "      <td>M404619443</td>\n",
       "      <td>0.00</td>\n",
       "      <td>0.00</td>\n",
       "      <td>0</td>\n",
       "      <td>0</td>\n",
       "    </tr>\n",
       "    <tr>\n",
       "      <th>2</th>\n",
       "      <td>CASH_OUT</td>\n",
       "      <td>526504.25</td>\n",
       "      <td>0.00</td>\n",
       "      <td>0.00</td>\n",
       "      <td>C790886408</td>\n",
       "      <td>32111553.59</td>\n",
       "      <td>32638057.85</td>\n",
       "      <td>0</td>\n",
       "      <td>0</td>\n",
       "    </tr>\n",
       "    <tr>\n",
       "      <th>3</th>\n",
       "      <td>CASH_OUT</td>\n",
       "      <td>197988.87</td>\n",
       "      <td>41298.00</td>\n",
       "      <td>0.00</td>\n",
       "      <td>C2138706730</td>\n",
       "      <td>3507583.49</td>\n",
       "      <td>3705572.36</td>\n",
       "      <td>0</td>\n",
       "      <td>0</td>\n",
       "    </tr>\n",
       "    <tr>\n",
       "      <th>4</th>\n",
       "      <td>CASH_OUT</td>\n",
       "      <td>339577.33</td>\n",
       "      <td>0.00</td>\n",
       "      <td>0.00</td>\n",
       "      <td>C1650523697</td>\n",
       "      <td>1760353.29</td>\n",
       "      <td>2099930.62</td>\n",
       "      <td>0</td>\n",
       "      <td>0</td>\n",
       "    </tr>\n",
       "  </tbody>\n",
       "</table>\n",
       "</div>"
      ],
      "text/plain": [
       "       type     amount  oldbalanceOrg  newbalanceOrig     nameDest  \\\n",
       "0  TRANSFER    3573.11           0.00            0.00   C422466055   \n",
       "1   PAYMENT    6141.99      337394.62       331252.63   M404619443   \n",
       "2  CASH_OUT  526504.25           0.00            0.00   C790886408   \n",
       "3  CASH_OUT  197988.87       41298.00            0.00  C2138706730   \n",
       "4  CASH_OUT  339577.33           0.00            0.00  C1650523697   \n",
       "\n",
       "   oldbalanceDest  newbalanceDest  isFraud  isFlaggedFraud  \n",
       "0       223901.18       227474.28        0               0  \n",
       "1            0.00            0.00        0               0  \n",
       "2     32111553.59     32638057.85        0               0  \n",
       "3      3507583.49      3705572.36        0               0  \n",
       "4      1760353.29      2099930.62        0               0  "
      ]
     },
     "execution_count": 2,
     "metadata": {},
     "output_type": "execute_result"
    }
   ],
   "source": [
    "#Observe the header of the new sample df for modeling\n",
    "df_model.head()\n"
   ]
  },
  {
   "cell_type": "code",
   "execution_count": 3,
   "metadata": {},
   "outputs": [
    {
     "name": "stdout",
     "output_type": "stream",
     "text": [
      "(10000, 9)\n"
     ]
    }
   ],
   "source": [
    "#Describe the new sample df for modeling\n",
    "print(df_model.shape)\n"
   ]
  },
  {
   "cell_type": "code",
   "execution_count": 4,
   "metadata": {},
   "outputs": [],
   "source": [
    "#Saving the sample dataframe to a csv file named ML_Sample\n",
    "df_model.to_csv(r'C:\\Users\\deema\\Financial-Fraud-1\\Processed Data\\ML_Sample.csv', index=None, header=True)"
   ]
  },
  {
   "cell_type": "markdown",
   "metadata": {},
   "source": [
    "Modeling 1: Decision Tree Classifier  \n",
    "Modeling 2: Hyperparameter \n",
    "Modeling 3: Gradient Boosting Regularization"
   ]
  },
  {
   "cell_type": "code",
   "execution_count": 5,
   "metadata": {},
   "outputs": [],
   "source": [
    "import pandas as pd\n",
    "import numpy as np\n",
    "from sklearn.datasets import load_iris\n",
    "from sklearn.model_selection import train_test_split\n",
    "from sklearn.tree import DecisionTreeClassifier\n",
    "from sklearn.metrics import accuracy_score"
   ]
  },
  {
   "cell_type": "code",
   "execution_count": 6,
   "metadata": {},
   "outputs": [],
   "source": [
    "# Read the entire CSV file\n",
    "df = pd.read_csv ('C:/Users/deema/Financial-Fraud-1/Processed Data/ML_Sample.csv')"
   ]
  },
  {
   "cell_type": "code",
   "execution_count": 7,
   "metadata": {},
   "outputs": [
    {
     "name": "stdout",
     "output_type": "stream",
     "text": [
      "Accuracy of the decision tree model: 1.00\n"
     ]
    }
   ],
   "source": [
    "#Decision Tree Classifier\n",
    "\n",
    "# Load the Iris dataset\n",
    "data = load_iris()\n",
    "X, y = data.data, data.target\n",
    "\n",
    "# Split the dataset into training and testing sets\n",
    "X_train, X_test, y_train, y_test = train_test_split(X, y, test_size=0.2, random_state=42)\n",
    "\n",
    "# Initialize the Decision Tree Classifier\n",
    "my_tree = DecisionTreeClassifier()\n",
    "\n",
    "# Fit the model to the training data\n",
    "my_tree.fit(X_train, y_train)\n",
    "\n",
    "# Make predictions on the test set\n",
    "y_pred = my_tree.predict(X_test)\n",
    "\n",
    "# Calculate accuracy\n",
    "accuracy = accuracy_score(y_test, y_pred)\n",
    "print(f\"Accuracy of the decision tree model: {accuracy:.2f}\")"
   ]
  },
  {
   "cell_type": "markdown",
   "metadata": {},
   "source": [
    "Analysis of Decision Tree: The accuracy of the decision tree model is represented at 1.00. This is significant alignment with the various features / variables of the dataset."
   ]
  },
  {
   "cell_type": "markdown",
   "metadata": {},
   "source": [
    "#Hyperparameter evaluations:\n",
    "I elected to use the Grid Search that is using the concept of \"halving\" that will allow for a more randomized search and performing the search in half the time. Also representative use of the heatmaps."
   ]
  },
  {
   "cell_type": "code",
   "execution_count": 8,
   "metadata": {},
   "outputs": [],
   "source": [
    "#Hyperparameter Grid Search\n",
    "\n",
    "from time import time\n",
    "\n",
    "import matplotlib.pyplot as plt\n",
    "import numpy as np\n",
    "import pandas as pd\n",
    "\n",
    "from sklearn import datasets\n",
    "from sklearn.experimental import enable_halving_search_cv  # noqa\n",
    "from sklearn.model_selection import GridSearchCV, HalvingGridSearchCV\n",
    "from sklearn.svm import SVC\n",
    "\n"
   ]
  },
  {
   "cell_type": "code",
   "execution_count": 9,
   "metadata": {},
   "outputs": [],
   "source": [
    "rng = np.random.RandomState(0)\n",
    "X, y = datasets.make_classification(n_samples=1000, random_state=rng)\n",
    "\n",
    "gammas = [1e-1, 1e-2, 1e-3, 1e-4, 1e-5, 1e-6, 1e-7]\n",
    "Cs = [1, 10, 100, 1e3, 1e4, 1e5]\n",
    "param_grid = {\"gamma\": gammas, \"C\": Cs}\n",
    "\n",
    "clf = SVC(random_state=rng)\n",
    "\n",
    "tic = time()\n",
    "gsh = HalvingGridSearchCV(\n",
    "    estimator=clf, param_grid=param_grid, factor=2, random_state=rng\n",
    ")\n",
    "gsh.fit(X, y)\n",
    "gsh_time = time() - tic\n",
    "\n",
    "tic = time()\n",
    "gs = GridSearchCV(estimator=clf, param_grid=param_grid)\n",
    "gs.fit(X, y)\n",
    "gs_time = time() - tic\n"
   ]
  },
  {
   "cell_type": "code",
   "execution_count": 6,
   "metadata": {},
   "outputs": [
    {
     "data": {
      "image/png": "[encoded data removed]",
      "text/plain": [
       "<Figure size 640x480 with 3 Axes>"
      ]
     },
     "metadata": {},
     "output_type": "display_data"
    }
   ],
   "source": [
    "def make_heatmap(ax, gs, is_sh=False, make_cbar=False):\n",
    "    \"\"\"Helper to make a heatmap.\"\"\"\n",
    "    results = pd.DataFrame(gs.cv_results_)\n",
    "    results[[\"param_C\", \"param_gamma\"]] = results[[\"param_C\", \"param_gamma\"]].astype(\n",
    "        np.float64\n",
    "    )\n",
    "    if is_sh:\n",
    "        # SH dataframe: get mean_test_score values for the highest iter\n",
    "        scores_matrix = results.sort_values(\"iter\").pivot_table(\n",
    "            index=\"param_gamma\",\n",
    "            columns=\"param_C\",\n",
    "            values=\"mean_test_score\",\n",
    "            aggfunc=\"last\",\n",
    "        )\n",
    "    else:\n",
    "        scores_matrix = results.pivot(\n",
    "            index=\"param_gamma\", columns=\"param_C\", values=\"mean_test_score\"\n",
    "        )\n",
    "\n",
    "    im = ax.imshow(scores_matrix)\n",
    "\n",
    "    ax.set_xticks(np.arange(len(Cs)))\n",
    "    ax.set_xticklabels([\"{:.0E}\".format(x) for x in Cs])\n",
    "    ax.set_xlabel(\"C\", fontsize=15)\n",
    "\n",
    "    ax.set_yticks(np.arange(len(gammas)))\n",
    "    ax.set_yticklabels([\"{:.0E}\".format(x) for x in gammas])\n",
    "    ax.set_ylabel(\"gamma\", fontsize=15)\n",
    "\n",
    "    # Rotate the tick labels and set their alignment.\n",
    "    plt.setp(ax.get_xticklabels(), rotation=45, ha=\"right\", rotation_mode=\"anchor\")\n",
    "\n",
    "    if is_sh:\n",
    "        iterations = results.pivot_table(\n",
    "            index=\"param_gamma\", columns=\"param_C\", values=\"iter\", aggfunc=\"max\"\n",
    "        ).values\n",
    "        for i in range(len(gammas)):\n",
    "            for j in range(len(Cs)):\n",
    "                ax.text(\n",
    "                    j,\n",
    "                    i,\n",
    "                    iterations[i, j],\n",
    "                    ha=\"center\",\n",
    "                    va=\"center\",\n",
    "                    color=\"w\",\n",
    "                    fontsize=20,\n",
    "                )\n",
    "\n",
    "    if make_cbar:\n",
    "        fig.subplots_adjust(right=0.8)\n",
    "        cbar_ax = fig.add_axes([0.85, 0.15, 0.05, 0.7])\n",
    "        fig.colorbar(im, cax=cbar_ax)\n",
    "        cbar_ax.set_ylabel(\"mean_test_score\", rotation=-90, va=\"bottom\", fontsize=15)\n",
    "\n",
    "\n",
    "fig, axes = plt.subplots(ncols=2, sharey=True)\n",
    "ax1, ax2 = axes\n",
    "\n",
    "make_heatmap(ax1, gsh, is_sh=True)\n",
    "make_heatmap(ax2, gs, make_cbar=True)\n",
    "\n",
    "ax1.set_title(\"Successive Halving\\ntime = {:.3f}s\".format(gsh_time), fontsize=15)\n",
    "ax2.set_title(\"GridSearch\\ntime = {:.3f}s\".format(gs_time), fontsize=15)\n",
    "\n",
    "plt.show()"
   ]
  },
  {
   "cell_type": "markdown",
   "metadata": {},
   "source": [
    "Analysis of Hyperparameter Grid Search:\n",
    "This is an interesting concept where the search in relationship to time and feature set is being \"halved\" therefore allowing for a greater relational aspect of the data to be realized. As evident, the greater the time, the greater the hyperparameterization that occurs. See Figures. GridSearchwith1k.png and GridSearchwith5k.png."
   ]
  }
 ],
 "metadata": {
  "kernelspec": {
   "display_name": "phase1",
   "language": "python",
   "name": "python3"
  },
  "language_info": {
   "codemirror_mode": {
    "name": "ipython",
    "version": 3
   },
   "file_extension": ".py",
   "mimetype": "text/x-python",
   "name": "python",
   "nbconvert_exporter": "python",
   "pygments_lexer": "ipython3",
   "version": "3.9.18"
  }
 },
 "nbformat": 4,
 "nbformat_minor": 2
}
